{
 "cells": [
  {
   "cell_type": "code",
   "execution_count": 1,
   "metadata": {},
   "outputs": [],
   "source": [
    "import requests\n",
    "from bs4 import BeautifulSoup\n",
    "import pandas as pd\n",
    "import json\n",
    "from lxml import html\n",
    "import urllib.request\n",
    "import time\n",
    "from time import sleep\n",
    "import re\n",
    "from torrequest import TorRequest\n",
    "from fake_useragent import UserAgent\n",
    "import os\n",
    "\n",
    "from selenium import webdriver\n",
    "from selenium.webdriver.chrome.options import Options\n",
    "from selenium.webdriver.common.by import By\n",
    "from selenium.webdriver.common.keys import Keys\n",
    "from selenium.webdriver.support.ui import WebDriverWait\n",
    "from selenium.webdriver.support.expected_conditions import presence_of_element_located\n",
    "from selenium.webdriver.support import expected_conditions as EC\n",
    "\n",
    "import time\n",
    "import sys\n",
    "import requests"
   ]
  },
  {
   "cell_type": "code",
   "execution_count": 2,
   "metadata": {},
   "outputs": [],
   "source": [
    "# import urllib.request"
   ]
  },
  {
   "cell_type": "code",
   "execution_count": 2,
   "metadata": {},
   "outputs": [],
   "source": [
    "ua = UserAgent()\n",
    "headers = {'User-Agent': ua.chrome}"
   ]
  },
  {
   "cell_type": "code",
   "execution_count": 3,
   "metadata": {},
   "outputs": [
    {
     "name": "stderr",
     "output_type": "stream",
     "text": [
      "<ipython-input-3-d55009508e12>:5: DeprecationWarning: executable_path has been deprecated, please pass in a Service object\n",
      "  driver = webdriver.Chrome(executable_path=chrome_driver_path, options=chrome_options)\n"
     ]
    }
   ],
   "source": [
    "chrome_driver_path = r'C:\\Users\\Lenovo\\Downloads/chromedriver.exe'\n",
    "\n",
    "chrome_options = Options()\n",
    "# chrome_options.add_argument('--headless')\n",
    "driver = webdriver.Chrome(executable_path=chrome_driver_path, options=chrome_options)"
   ]
  },
  {
   "cell_type": "code",
   "execution_count": 4,
   "metadata": {},
   "outputs": [],
   "source": [
    "product_save_path = \"D:/Scrapped_data/Myntra/Men/TopWear\""
   ]
  },
  {
   "cell_type": "code",
   "execution_count": 5,
   "metadata": {},
   "outputs": [
    {
     "name": "stderr",
     "output_type": "stream",
     "text": [
      "<ipython-input-5-ec24eb4a3087>:8: DeprecationWarning: find_element_by_* commands are deprecated. Please use find_element() instead\n",
      "  pre = driver.find_element_by_tag_name(\"pre\").text\n"
     ]
    }
   ],
   "source": [
    "driver.get('https://www.myntra.com/')\n",
    "driver.implicitly_wait(3)\n",
    "\n",
    "for page_no in range(1658,1700):\n",
    "    url = \"https://www.myntra.com/gateway/v2/search/men-topwear?p=\"+str(page_no)+\"&rows=50&o=\"+str(((page_no-1)*50))+\"&plaEnabled=false\"\n",
    "\n",
    "    driver.get(url)\n",
    "    pre = driver.find_element_by_tag_name(\"pre\").text\n",
    "    data = json.loads(pre)\n",
    "\n",
    "    for i in data['products']:\n",
    "\n",
    "        folder_path = os.path.join(product_save_path, str(i['productId']))\n",
    "        os.makedirs(folder_path, exist_ok=True)\n",
    "\n",
    "        for img in i['images'][1:]:\n",
    "            img_url = img['src']\n",
    "            img_name = img['src'].split(\"/\")[-1]\n",
    "\n",
    "            img_path = os.path.join(folder_path, img_name)\n",
    "    #         print(img_url, img_path)\n",
    "            try:\n",
    "                urllib.request.urlretrieve(img_url, img_path)\n",
    "            except:\n",
    "                pass"
   ]
  },
  {
   "cell_type": "code",
   "execution_count": null,
   "metadata": {},
   "outputs": [],
   "source": []
  },
  {
   "cell_type": "code",
   "execution_count": null,
   "metadata": {},
   "outputs": [],
   "source": []
  }
 ],
 "metadata": {
  "kernelspec": {
   "display_name": "Python 3",
   "language": "python",
   "name": "python3"
  },
  "language_info": {
   "codemirror_mode": {
    "name": "ipython",
    "version": 3
   },
   "file_extension": ".py",
   "mimetype": "text/x-python",
   "name": "python",
   "nbconvert_exporter": "python",
   "pygments_lexer": "ipython3",
   "version": "3.8.8"
  }
 },
 "nbformat": 4,
 "nbformat_minor": 4
}
